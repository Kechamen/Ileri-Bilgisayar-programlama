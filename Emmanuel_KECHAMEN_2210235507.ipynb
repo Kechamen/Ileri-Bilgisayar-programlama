{
 "cells": [
  {
   "cell_type": "code",
   "execution_count": null,
   "id": "06248646-e2a3-41ea-b4e7-5c3d653ff402",
   "metadata": {},
   "outputs": [],
   "source": [
    "Şok İndeksi HesaplamaParametreler:"
   ]
  },
  {
   "cell_type": "code",
   "execution_count": null,
   "id": "267c0645-6405-4365-a50d-86f1f431a9a4",
   "metadata": {},
   "outputs": [],
   "source": [
    "#Şok İndeksi, bir hastanın ne kadar şokta olduğunu değerlendirmek için kullanılan bir ölçüttür.\n",
    "\n",
    "#Sistolik Kan Basıncı: mmHg cinsinden\n",
    "#Diastolik Kan Basıncı: mmHg cinsinden\n",
    "#Nabız: Dakikadaki atış sayısı\n",
    "#Hesaplama:\n",
    "\n",
    "#Şok İndeksi, aşağıdaki formül kullanılarak hesaplanır:\n",
    "\n",
    "#Şok İndeksi = Sistolik Kan Basıncı / Nabız"
   ]
  },
  {
   "cell_type": "code",
   "execution_count": null,
   "id": "269f768c-811a-47b7-b124-a46d6e483090",
   "metadata": {},
   "outputs": [],
   "source": [
    "#Geleneksel Kod:\n",
    "\n",
    "try:\n",
    "    sistolik_kan_basinci = float(input(\"Sistolik kan basıncını giriniz: \"))\n",
    "    diastolik_kan_basinci = float(input(\"Diastolik kan basıncını giriniz: \"))\n",
    "    nabiz = float(input(\"Nabzı giriniz: \"))\n",
    "except ValueError:\n",
    "    print(\"Hatalı giriş!\")\n",
    "else:\n",
    "    sok_indeksi = sistolik_kan_basinci / nabiz\n",
    "    print(\"Şok İndeksi:\", sok_indeksi)"
   ]
  },
  {
   "cell_type": "code",
   "execution_count": null,
   "id": "c38ea6c8-029c-4270-87ac-74d50a95266d",
   "metadata": {},
   "outputs": [],
   "source": [
    "#Fonksiyon Olarak:\n",
    "\n",
    "def sok_indeksi_hesapla(sistolik_kan_basinci, diastolik_kan_basinci, nabiz):\n",
    "    try:\n",
    "        sistolik_kan_basinci = float(sistolik_kan_basinci)\n",
    "        diastolik_kan_basinci = float(diastolik_kan_basinci)\n",
    "        nabiz = float(nabiz)\n",
    "    except ValueError:\n",
    "        return \"Hatalı giriş!\"\n",
    "    else:\n",
    "        return sistolik_kan_basinci / nabiz"
   ]
  },
  {
   "cell_type": "code",
   "execution_count": null,
   "id": "bd159016-7171-4b8a-92a7-3bcba2bae531",
   "metadata": {},
   "outputs": [],
   "source": [
    "#Tkinter ile\n",
    "\n",
    "import tkinter as tk\n",
    "\n",
    "def sok_indeksi_hesapla():\n",
    "    try:\n",
    "        sistolik_kan_basinci = float(sistolik_kan_basinci_girdisi.get())\n",
    "        diastolik_kan_basinci = float(diastolik_kan_basinci_girdisi.get())\n",
    "        nabiz = float(nabiz_girdisi.get())\n",
    "    except ValueError:\n",
    "        sonuc_etiketi[\"text\"] = \"Hatalı giriş!\"\n",
    "    else:\n",
    "        sok_indeksi = sistolik_kan_basinci / nabiz\n",
    "        sonuc_etiketi[\"text\"] = f\"Şok İndeksi: {sok_indeksi}\"\n",
    "\n",
    "def hakkinda():\n",
    "    hakkinda_penceresi = tk.Toplevel()\n",
    "    hakkinda_penceresi.title(\"Hakkında\")\n",
    "\n",
    "    ogrenci_bilgileri = tk.Label(hakkinda_penceresi, text=\"\"\"\n",
    "        Öğrenci Adı: [Emmanuel Anabel KECHAMEN ]\n",
    "        Öğrenci Numarası: [2210235507]\n",
    "        \"\"\")\n",
    "\n",
    "    konu_aciklamasi = tk.Label(hakkinda_penceresi, text=\"\"\"\n",
    "        Bu program, kullanıcının girdiği parametrelere göre Şok İndeksi'ni hesaplar.\n",
    "        \"\"\")\n",
    "\n",
    "    ogrenci_bilgileri.pack()\n",
    "    konu_aciklamasi.pack()\n",
    "\n",
    "# Pencere Oluşturma\n",
    "\n",
    "pencere = tk.Tk()\n",
    "pencere.title(\"Şok İndeksi Hesaplama\")\n",
    "\n",
    "# Etiketler\n",
    "\n",
    "sistolik_kan_basinci_etiketi = tk.Label(text=\"Sistolik Kan Basıncı:\")\n",
    "diastolik_kan_basinci_etiketi = tk.Label(text=\"Diastolik Kan Basıncı:\")\n",
    "nabiz_etiketi = tk.Label(text=\"Nabız:\")\n",
    "sonuc_etiketi = tk.Label(text=\"\")\n",
    "\n",
    "# Girişler\n",
    "\n",
    "sistolik_kan_basinci_girdisi = tk.Entry()\n",
    "diastolik_kan_basinci_girdisi = tk.Entry()\n",
    "nabiz_girdisi = tk.Entry()\n",
    "\n",
    "# Hesapla Butonu\n",
    "\n",
    "hesapla_butonu = tk.Button(text=\"Hesapla\", command=sok_indeksi_hesapla)"
   ]
  }
 ],
 "metadata": {
  "kernelspec": {
   "display_name": "Python 3 (ipykernel)",
   "language": "python",
   "name": "python3"
  },
  "language_info": {
   "codemirror_mode": {
    "name": "ipython",
    "version": 3
   },
   "file_extension": ".py",
   "mimetype": "text/x-python",
   "name": "python",
   "nbconvert_exporter": "python",
   "pygments_lexer": "ipython3",
   "version": "3.12.0"
  }
 },
 "nbformat": 4,
 "nbformat_minor": 5
}
